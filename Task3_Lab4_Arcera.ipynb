{
  "nbformat": 4,
  "nbformat_minor": 0,
  "metadata": {
    "colab": {
      "name": "Task3_Lab4_Arcera",
      "provenance": [],
      "authorship_tag": "ABX9TyPOQ0EWmWd2G2jNUOXUFqvN",
      "include_colab_link": true
    },
    "kernelspec": {
      "name": "python3",
      "display_name": "Python 3"
    }
  },
  "cells": [
    {
      "cell_type": "markdown",
      "metadata": {
        "id": "view-in-github",
        "colab_type": "text"
      },
      "source": [
        "<a href=\"https://colab.research.google.com/github/EdhnaerA/Linear-Algebra_58051/blob/main/Task3_Lab4_Arcera.ipynb\" target=\"_parent\"><img src=\"https://colab.research.google.com/assets/colab-badge.svg\" alt=\"Open In Colab\"/></a>"
      ]
    },
    {
      "cell_type": "markdown",
      "metadata": {
        "id": "CHLlNYgrjvDe"
      },
      "source": [
        "# **Task 3**"
      ]
    },
    {
      "cell_type": "code",
      "metadata": {
        "colab": {
          "base_uri": "https://localhost:8080/",
          "height": 340
        },
        "id": "hqHB68KbVyT2",
        "outputId": "a41429ae-0b77-4648-e663-c848306e40aa"
      },
      "source": [
        "import numpy as np\r\n",
        "import matplotlib.pyplot as plt\r\n",
        "\r\n",
        "a= np.array([-0.4 , 4.3 , -0.6 ])\r\n",
        "b = np.array([-0.2 , 0.2, 1])\r\n",
        "c = np.array([-0.2, 2.1, -1.5])\r\n",
        "\r\n",
        "plt.xlim(-4,8)\r\n",
        "plt.ylim(5,6.4)\r\n",
        "\r\n",
        "answer = ((np.square(a) + np.square(b) + np.square(c)) * (np.divide(np.multiply(a,(np.add(b, (np.multiply(a,b))))),c)))*(np.linalg.norm(a+b+c))\r\n",
        "print('(A**2 + B**2 + C**2)*(A*(B+A*B)/C)*||A + B + C||=',answer)\r\n",
        "\r\n",
        "print('*'*100) \r\n",
        "\r\n",
        "plt.quiver(a[0], a[1], b[0], b[1], angles='xy', scale_units='xy',\r\n",
        "           scale=1, color='red')\r\n",
        "plt.quiver(a[0] + b[0], a[1] + b[1], c[0], c[1], angles='xy', scale_units='xy',\r\n",
        "           scale=1, color='purple')\r\n",
        "d = b + c\r\n",
        "plt.quiver(a[0], a[1], d[0], d[1] ,angles='xy', scale_units='xy',\r\n",
        "           scale=1, color='yellow')\r\n",
        "\r\n",
        "R_mag = np.sqrt(np.sum(b**2+c**2))\r\n",
        "rise = c[1]\r\n",
        "run = c[0]\r\n",
        "slope = rise/run\r\n",
        "print('The slope is: ',slope)\r\n",
        "plt.xlim(-5,9)\r\n",
        "plt.ylim(4,7.5)\r\n",
        "plt.grid()\r\n",
        "plt.legend()\r\n",
        "plt.show()"
      ],
      "execution_count": 16,
      "outputs": [
        {
          "output_type": "stream",
          "text": [
            "No handles with labels found to put in legend.\n"
          ],
          "name": "stderr"
        },
        {
          "output_type": "stream",
          "text": [
            "(A**2 + B**2 + C**2)*(A*(B+A*B)/C)*||A + B + C||= [ -0.38814879 335.52446352   3.89226979]\n",
            "****************************************************************************************************\n",
            "The slope is:  -10.5\n"
          ],
          "name": "stdout"
        },
        {
          "output_type": "display_data",
          "data": {
            "image/png": "[encoded data removed]",
            "text/plain": [
              "<Figure size 432x288 with 1 Axes>"
            ]
          },
          "metadata": {
            "tags": [],
            "needs_background": "light"
          }
        }
      ]
    }
  ]
}