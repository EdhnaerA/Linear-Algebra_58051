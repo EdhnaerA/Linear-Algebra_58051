{
  "nbformat": 4,
  "nbformat_minor": 0,
  "metadata": {
    "colab": {
      "name": "Task2_Lab4_Arcera",
      "provenance": [],
      "authorship_tag": "ABX9TyOBCGwDNSElYp136PG4G8s4",
      "include_colab_link": true
    },
    "kernelspec": {
      "name": "python3",
      "display_name": "Python 3"
    }
  },
  "cells": [
    {
      "cell_type": "markdown",
      "metadata": {
        "id": "view-in-github",
        "colab_type": "text"
      },
      "source": [
        "<a href=\"https://colab.research.google.com/github/EdhnaerA/Linear-Algebra_58051/blob/main/Task2_Lab4_Arcera.ipynb\" target=\"_parent\"><img src=\"https://colab.research.google.com/assets/colab-badge.svg\" alt=\"Open In Colab\"/></a>"
      ]
    },
    {
      "cell_type": "markdown",
      "metadata": {
        "id": "ZjoSI5y95lim"
      },
      "source": [
        "# **Task 2**"
      ]
    },
    {
      "cell_type": "code",
      "metadata": {
        "colab": {
          "base_uri": "https://localhost:8080/"
        },
        "id": "85SK9fqs5uaI",
        "outputId": "77bd3b3e-f7f6-4dd0-8586-a520b81c2ae1"
      },
      "source": [
        "##Vectors\r\n",
        "EA = [3,9,30,23,21]\r\n",
        "LP = [5,2,20,4,1]\r\n",
        "LA = []\r\n",
        "\r\n",
        "NA = [21,4,8,4,6 ]\r\n",
        "SD = [4,9,15,13,18]\r\n",
        "NR = []\r\n",
        "\r\n",
        "KJ = [14,28,25,19,9 ]\r\n",
        "HS = [3,7,4,22,10]\r\n",
        "KH = []\r\n",
        "\r\n",
        "MC = [5,3,6,2,4 ]\r\n",
        "JB = [1,5,9,7,3]\r\n",
        "MB = []\r\n",
        "\r\n",
        "print('Given vectors:  EA= ', EA, 'LP = ', LP)\r\n",
        "print('Inner Product of two vectors: (EA * LP)')\r\n",
        "for i in range(len(EA)):\r\n",
        "    p1 = EA[i] * LP[i]\r\n",
        "    print(EA[i], '*', [i], '=', p1, '+')\r\n",
        "    LA.append(p1)\r\n",
        "\r\n",
        "print('(EA * LP) = ',LA)\r\n",
        "print('The sum of all numbers :', sum(LA))\r\n",
        "print('*'*64)\r\n",
        "\r\n",
        "\r\n",
        "print('Given vectors:  NA= ', NA, 'SD = ', SD)\r\n",
        "print('Inner Product of two vectors: (EA * SD)')\r\n",
        "for i in range(len(NA)):\r\n",
        "    p2 = NA[i] * SD[i]\r\n",
        "    print(NA[i], '*', [i], '=', p2, '+')\r\n",
        "    NR.append(p2)\r\n",
        "\r\n",
        "print('(NA * SD) = ',NR)\r\n",
        "print('The sum of all numbers :', sum(NR))\r\n",
        "print('*'*64)\r\n",
        "\r\n",
        "\r\n",
        "print('Given vectors:  KJ= ', KJ, 'HS = ', HS)\r\n",
        "print('Inner Product of two vectors: (KJ * HS)')\r\n",
        "for i in range(len(KJ)):\r\n",
        "    p3 = KJ[i] * HS[i]\r\n",
        "    print(KJ[i], '*', [i], '=', p3, '+')\r\n",
        "    KH.append(p3)\r\n",
        "\r\n",
        "print('(KJ * HS) = ',KH)\r\n",
        "print('The sum of all numbers :', sum(KH))\r\n",
        "print('*'*64)\r\n",
        "\r\n",
        "print('Given vectors:  MC= ', MC, 'JB = ', JB)\r\n",
        "print('Inner Product of two vectors: (KJ * JB)')\r\n",
        "for i in range(len(MC)):\r\n",
        "    p4 = MC[i] * JB[i]\r\n",
        "    print(MC[i], '*', [i], '=', p4, '+')\r\n",
        "    MB.append(p4)\r\n",
        "\r\n",
        "print('(MC * JB) = ',MB)\r\n",
        "print('The sum of all numbers :', sum(MB))\r\n",
        "print('*'*64)"
      ],
      "execution_count": 19,
      "outputs": [
        {
          "output_type": "stream",
          "text": [
            "Given vectors:  EA=  [3, 9, 30, 23, 21] LP =  [5, 2, 20, 4, 1]\n",
            "Inner Product of two vectors: (EA * LP)\n",
            "3 * [0] = 15 +\n",
            "9 * [1] = 18 +\n",
            "30 * [2] = 600 +\n",
            "23 * [3] = 92 +\n",
            "21 * [4] = 21 +\n",
            "(EA * LP) =  [15, 18, 600, 92, 21]\n",
            "The sum of all numbers : 746\n",
            "****************************************************************\n",
            "Given vectors:  NA=  [21, 4, 8, 4, 6] SD =  [4, 9, 15, 13, 18]\n",
            "Inner Product of two vectors: (EA * SD)\n",
            "21 * [0] = 84 +\n",
            "4 * [1] = 36 +\n",
            "8 * [2] = 120 +\n",
            "4 * [3] = 52 +\n",
            "6 * [4] = 108 +\n",
            "(NA * SD) =  [84, 36, 120, 52, 108]\n",
            "The sum of all numbers : 400\n",
            "****************************************************************\n",
            "Given vectors:  KJ=  [14, 28, 25, 19, 9] HS =  [3, 7, 4, 22, 10]\n",
            "Inner Product of two vectors: (KJ * HS)\n",
            "14 * [0] = 42 +\n",
            "28 * [1] = 196 +\n",
            "25 * [2] = 100 +\n",
            "19 * [3] = 418 +\n",
            "9 * [4] = 90 +\n",
            "(KJ * HS) =  [42, 196, 100, 418, 90]\n",
            "The sum of all numbers : 846\n",
            "****************************************************************\n",
            "Given vectors:  MC=  [5, 3, 6, 2, 4] JB =  [1, 5, 9, 7, 3]\n",
            "Inner Product of two vectors: (KJ * JB)\n",
            "5 * [0] = 5 +\n",
            "3 * [1] = 15 +\n",
            "6 * [2] = 54 +\n",
            "2 * [3] = 14 +\n",
            "4 * [4] = 12 +\n",
            "(MC * JB) =  [5, 15, 54, 14, 12]\n",
            "The sum of all numbers : 100\n",
            "****************************************************************\n"
          ],
          "name": "stdout"
        }
      ]
    }
  ]
}